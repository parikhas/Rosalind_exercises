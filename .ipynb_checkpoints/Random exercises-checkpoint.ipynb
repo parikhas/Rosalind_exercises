{
 "cells": [
  {
   "cell_type": "markdown",
   "metadata": {},
   "source": [
    "### Given: A DNA string s of length at most 1000 nt.\n",
    "\n",
    "Return: Four integers (separated by spaces) counting the respective number of times that the symbols 'A', 'C', 'G', and 'T' occur in s."
   ]
  },
  {
   "cell_type": "code",
   "execution_count": 5,
   "metadata": {},
   "outputs": [
    {
     "data": {
      "text/plain": [
       "20"
      ]
     },
     "execution_count": 5,
     "metadata": {},
     "output_type": "execute_result"
    }
   ],
   "source": [
    "dna_string = \"AGCTTTTCATTCTGACTGCAACGGGCAATATGTCTCTGTGTGGATTAAAAAAAGAGTGTCTGATAGCAGC\"\n",
    "dna_string.count(\"A\")"
   ]
  },
  {
   "cell_type": "code",
   "execution_count": 6,
   "metadata": {},
   "outputs": [
    {
     "name": "stdout",
     "output_type": "stream",
     "text": [
      "20 12 17 21\n"
     ]
    }
   ],
   "source": [
    "print(dna_string.count(\"A\"), dna_string.count(\"C\"), dna_string.count(\"G\"), dna_string.count(\"T\")) "
   ]
  },
  {
   "cell_type": "markdown",
   "metadata": {},
   "source": [
    "### Given: A DNA string t having length at most 1000 nt.\n",
    "\n",
    "Return: The transcribed RNA string of t."
   ]
  },
  {
   "cell_type": "code",
   "execution_count": 7,
   "metadata": {},
   "outputs": [
    {
     "data": {
      "text/plain": [
       "'GAUGGAACUUGACUACGUAAAUU'"
      ]
     },
     "execution_count": 7,
     "metadata": {},
     "output_type": "execute_result"
    }
   ],
   "source": [
    "dna_string2 = \"GATGGAACTTGACTACGTAAATT\"\n",
    "rna_string = dna_string2.replace(\"T\",\"U\")\n",
    "rna_string"
   ]
  },
  {
   "cell_type": "markdown",
   "metadata": {},
   "source": [
    "### Given: A DNA string s of length at most 1000 bp.\n",
    "\n",
    "Return: The reverse complement sc of s."
   ]
  },
  {
   "cell_type": "code",
   "execution_count": 22,
   "metadata": {},
   "outputs": [
    {
     "name": "stdout",
     "output_type": "stream",
     "text": [
      "TGGCCCAAAA\n"
     ]
    }
   ],
   "source": [
    "dna_string3 = \"AAAACCCGGT\"\n",
    "dna_rev = dna_string3[::-1]\n",
    "print(dna_rev)"
   ]
  },
  {
   "cell_type": "code",
   "execution_count": 39,
   "metadata": {},
   "outputs": [
    {
     "data": {
      "text/plain": [
       "['T', 'G', 'G', 'C', 'C', 'C', 'A', 'A', 'A', 'A']"
      ]
     },
     "execution_count": 39,
     "metadata": {},
     "output_type": "execute_result"
    }
   ],
   "source": [
    "rev = {\"A\" : \"T\", \"G\" : \"C\", \"T\" : \"A\", \"C\": \"G\"}\n",
    "\n",
    "dna_rev_list = [i for i in dna_rev]\n",
    "dna_rev_list"
   ]
  },
  {
   "cell_type": "code",
   "execution_count": 40,
   "metadata": {},
   "outputs": [
    {
     "name": "stdout",
     "output_type": "stream",
     "text": [
      "T\n",
      "G\n",
      "G\n",
      "C\n",
      "C\n",
      "C\n",
      "A\n",
      "A\n",
      "A\n",
      "A\n",
      "['A', 'C', 'C', 'G', 'G', 'G', 'T', 'T', 'T', 'T']\n"
     ]
    }
   ],
   "source": [
    "for i in range(len(dna_rev_list)):\n",
    "    base = dna_rev_list[i]\n",
    "    print(base)\n",
    "    dna_rev_list[i] = rev[base]\n",
    "print(dna_rev_list)"
   ]
  },
  {
   "cell_type": "code",
   "execution_count": 41,
   "metadata": {},
   "outputs": [
    {
     "name": "stdout",
     "output_type": "stream",
     "text": [
      "ACCGGGTTTT\n"
     ]
    }
   ],
   "source": [
    "print(''.join(dna_rev_list))"
   ]
  },
  {
   "cell_type": "markdown",
   "metadata": {},
   "source": [
    "### Given: Two DNA strings s and t of equal length (not exceeding 1 kbp).\n",
    "\n",
    "Return: The Hamming distance dH(s,t)."
   ]
  },
  {
   "cell_type": "code",
   "execution_count": 2,
   "metadata": {},
   "outputs": [
    {
     "name": "stdout",
     "output_type": "stream",
     "text": [
      "7\n"
     ]
    }
   ],
   "source": [
    "dna1 = \"GAGCCTACTAACGGGAT\"\n",
    "dna2 = \"CATCGTAATGACGGCCT\"\n",
    "\n",
    "point_mutations = 0\n",
    "\n",
    "for i,j in zip(dna1,dna2):\n",
    "        if i != j:\n",
    "            point_mutations += 1\n",
    "            \n",
    "print(point_mutations)"
   ]
  },
  {
   "cell_type": "markdown",
   "metadata": {},
   "source": [
    "### Given: Two DNA strings s and t (each of length at most 1 kbp).\n",
    "\n",
    "Return: All locations of t as a substring of s."
   ]
  },
  {
   "cell_type": "code",
   "execution_count": 45,
   "metadata": {},
   "outputs": [
    {
     "name": "stdout",
     "output_type": "stream",
     "text": [
      "[2, 4, 10]\n"
     ]
    }
   ],
   "source": [
    "dna = \"GATATATGCATATACTT\"\n",
    "kmer = \"ATAT\"\n",
    "\n",
    "dna_kmer_pos = []\n",
    "\n",
    "for i in range(len(dna)-4):\n",
    "    dna_k = dna[i:i+4]\n",
    "    #print(dna_k)\n",
    "    if dna_k == kmer:\n",
    "        dna_kmer_pos.append(i+1)\n",
    "        \n",
    "print(dna_kmer_pos)"
   ]
  },
  {
   "cell_type": "markdown",
   "metadata": {},
   "source": [
    "### Given: An RNA string s corresponding to a strand of mRNA (of length at most 10 kbp).\n",
    "\n",
    "Return: The protein string encoded by s."
   ]
  },
  {
   "cell_type": "code",
   "execution_count": 16,
   "metadata": {},
   "outputs": [],
   "source": [
    "s = \"AUGGCCAUGGCGCCCAGAACUGAGAUCAAUAGUACCCGUAUUAACGGGUGA\"\n",
    "protein = \"\"\n",
    "\n",
    "rnaToProt = {\n",
    "\"UUU\": \"F\"    ,  \"CUU\": \"L\",      \"AUU\": \"I\",      \"GUU\": \"V\",\n",
    "\"UUC\": \"F\"    ,  \"CUC\": \"L\",      \"AUC\": \"I\",      \"GUC\": \"V\",\n",
    "\"UUA\": \"L\"    ,  \"CUA\" :\"L\"    ,  \"AUA\" :\"I\"    ,  \"GUA\": \"V\",\n",
    "\"UUG\": \"L\"    ,  \"CUG\" :\"L\"    ,  \"AUG\" :\"M\"    ,  \"GUG\" :\"V\",\n",
    "\"UCU\": \"S\"    ,  \"CCU\" :\"P\"    ,  \"ACU\" :\"T\"    ,  \"GCU\" :\"A\",\n",
    "\"UCC\": \"S\"    ,  \"CCC\" :\"P\"    ,  \"ACC\" :\"T\"    ,  \"GCC\" :\"A\",\n",
    "\"UCA\": \"S\"    ,  \"CCA\" :\"P\"    ,  \"ACA\" :\"T\"    ,  \"GCA\" :\"A\",\n",
    "\"UCG\": \"S\"    ,  \"CCG\" :\"P\"    ,  \"ACG\" :\"T\"    ,  \"GCG\" :\"A\",\n",
    "\"UAU\": \"Y\"    ,  \"CAU\" :\"H\"    ,  \"AAU\" :\"N\"    ,  \"GAU\" :\"D\",\n",
    "\"UAC\": \"Y\"    ,  \"CAC\" :\"H\"    ,  \"AAC\" :\"N\"    ,  \"GAC\" :\"D\",\n",
    "\"UAA\": \"Stop\" ,  \"CAA\" :\"Q\"    ,  \"AAA\" :\"K\"    ,  \"GAA\" :\"E\",\n",
    "\"UAG\": \"Stop\" ,  \"CAG\" :\"Q\"    ,  \"AAG\" :\"K\"    ,  \"GAG\" :\"E\",\n",
    "\"UGU\": \"C\"    ,  \"CGU\" :\"R\"    ,  \"AGU\" :\"S\"    ,  \"GGU\" :\"G\",\n",
    "\"UGC\": \"C\"    ,  \"CGC\" :\"R\"    ,  \"AGC\" :\"S\"    ,  \"GGC\" :\"G\",\n",
    "\"UGA\": \"Stop\" ,  \"CGA\" :\"R\"    ,  \"AGA\" :\"R\"    ,  \"GGA\" :\"G\",\n",
    "\"UGG\": \"W\"    ,  \"CGG\" :\"R\"    ,  \"AGG\" :\"R\"    ,  \"GGG\" :\"G\" \n",
    "}\n",
    "\n",
    "for i in range((len(s)-3),3):\n",
    "    print(i)"
   ]
  },
  {
   "cell_type": "code",
   "execution_count": 17,
   "metadata": {},
   "outputs": [
    {
     "name": "stdout",
     "output_type": "stream",
     "text": [
      "MAMAPRTEINSTRING\n"
     ]
    }
   ],
   "source": [
    "for i in range(0,(len(s)),3):\n",
    "    codon = (s[i:i+3])\n",
    "    if rnaToProt[codon] != \"Stop\":\n",
    "        protein += rnaToProt[codon]\n",
    "    else:\n",
    "        break\n",
    "        \n",
    "print(protein)"
   ]
  },
  {
   "cell_type": "markdown",
   "metadata": {},
   "source": [
    "### Given: Two DNA strings s and t (each of length at most 1 kbp).\n",
    "\n",
    "Return: All locations of t as a substring of s."
   ]
  },
  {
   "cell_type": "code",
   "execution_count": 7,
   "metadata": {},
   "outputs": [
    {
     "name": "stdout",
     "output_type": "stream",
     "text": [
      "[2, 4, 10]\n"
     ]
    }
   ],
   "source": [
    "s = \"GATATATGCATATACTT\"\n",
    "t = \"ATAT\"\n",
    "\n",
    "loc = []\n",
    "\n",
    "for i in range(len(s)):\n",
    "    #print(s[i:i+4])\n",
    "    if s[i:i+4] == t:\n",
    "        loc.append(i+1)\n",
    "print(loc)"
   ]
  },
  {
   "cell_type": "code",
   "execution_count": null,
   "metadata": {},
   "outputs": [],
   "source": []
  }
 ],
 "metadata": {
  "kernelspec": {
   "display_name": "Python 3",
   "language": "python",
   "name": "python3"
  },
  "language_info": {
   "codemirror_mode": {
    "name": "ipython",
    "version": 3
   },
   "file_extension": ".py",
   "mimetype": "text/x-python",
   "name": "python",
   "nbconvert_exporter": "python",
   "pygments_lexer": "ipython3",
   "version": "3.7.1"
  }
 },
 "nbformat": 4,
 "nbformat_minor": 2
}
