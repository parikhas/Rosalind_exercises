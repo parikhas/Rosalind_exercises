{
 "cells": [
  {
   "cell_type": "markdown",
   "metadata": {},
   "source": [
    "PROBLEM: Given a fasta file, return the sequence with the highest GC content.\n",
    "GC-content of a DNA string is given by the percentage of symbols in the string that are 'C' or 'G'.\n",
    "http://rosalind.info/problems/gc/"
   ]
  },
  {
   "cell_type": "code",
   "execution_count": 2,
   "metadata": {},
   "outputs": [],
   "source": [
    "import operator\n",
    "\n",
    "# Initialize an empty dict which will store seqquence ID as key and their GC percentage as value\n",
    "seqID_to_gcContent = {}\n",
    "\n",
    "# Initialize empty string for seq ID and empty variables to store GC and AT counts\n",
    "current_header = \"\"\n",
    "\n",
    "# Function to calculate GC percent and add it to the seqID_to_gcContent with it's sequence id\n",
    "def calculateCGpercentAddToDict(num_gc, num_at, current_header):\n",
    "    gc_percent = (num_gc / (num_gc + float(num_at))) * 100\n",
    "    seqID_to_gcContent[current_header] = round(gc_percent, 6)\n",
    "    #print(gc_percent)\n",
    "\n",
    "with open(\"sample_dna.fasta\",\"r\") as fh:\n",
    "    for line in fh:\n",
    "        line = line.strip()\n",
    "        if line.startswith(\">\"):\n",
    "            if (current_header != \"\"):\n",
    "                # Previous entry is complete. Process it now. This should be skipped for first header but\n",
    "                # done for every subsequent header.\n",
    "                calculateCGpercentAddToDict(gc, at, current_header)\n",
    "            \n",
    "            # For all headers including first one, initialize values of cg and at here, since\n",
    "            # next line is expected to be sequence.\n",
    "            seq_id = line[1:]\n",
    "            current_header = seq_id\n",
    "            gc = 0\n",
    "            at = 0\n",
    "     \n",
    "        else:\n",
    "            line = line.upper() # Handle lower case bases if present\n",
    "            for base in line:\n",
    "                if base == 'C' or base == 'G':\n",
    "                    gc += 1\n",
    "                else:\n",
    "                    at += 1\n",
    "                    \n",
    "    # Last sequence needs to be processed.\n",
    "    calculateCGpercentAddToDict(gc, at, current_header)"
   ]
  },
  {
   "cell_type": "code",
   "execution_count": 3,
   "metadata": {},
   "outputs": [],
   "source": [
    "# Get the sequence ID with the highest GC content\n",
    "max_gc_percent = max(seqID_to_gcContent.items(), key=operator.itemgetter(1))[1]\n",
    "max_gc_id = max(seqID_to_gcContent.items(), key=operator.itemgetter(1))[0]"
   ]
  },
  {
   "cell_type": "code",
   "execution_count": 4,
   "metadata": {},
   "outputs": [
    {
     "name": "stdout",
     "output_type": "stream",
     "text": [
      "Rosalind_0808\n",
      "60.91954\n"
     ]
    }
   ],
   "source": [
    "# Return the output as shown on the website\n",
    "print(max_gc_id, max_gc_percent, sep = \"\\n\")"
   ]
  },
  {
   "cell_type": "code",
   "execution_count": null,
   "metadata": {},
   "outputs": [],
   "source": []
  }
 ],
 "metadata": {
  "kernelspec": {
   "display_name": "Python 3",
   "language": "python",
   "name": "python3"
  },
  "language_info": {
   "codemirror_mode": {
    "name": "ipython",
    "version": 3
   },
   "file_extension": ".py",
   "mimetype": "text/x-python",
   "name": "python",
   "nbconvert_exporter": "python",
   "pygments_lexer": "ipython3",
   "version": "3.6.7"
  }
 },
 "nbformat": 4,
 "nbformat_minor": 2
}
